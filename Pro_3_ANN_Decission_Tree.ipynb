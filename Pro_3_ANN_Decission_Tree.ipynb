{
 "cells": [
  {
   "cell_type": "code",
   "execution_count": 15,
   "id": "f9ac0d50",
   "metadata": {},
   "outputs": [],
   "source": [
    "import numpy as np\n",
    "import pandas as pd\n",
    "from sklearn.model_selection import train_test_split\n",
    "from sklearn.preprocessing import StandardScaler\n",
    "from sklearn.tree import DecisionTreeClassifier\n",
    "from sklearn.metrics import confusion_matrix, accuracy_score, precision_score\n",
    "from sklearn.metrics import recall_score, f1_score, mean_squared_error, mean_absolute_error\n",
    "from sklearn.neural_network import MLPClassifier\n",
    "from math import sqrt\n",
    "\n",
    "df = pd.read_csv(\"Churn_Modelling.csv\")\n",
    "df.drop(columns=['RowNumber', 'CustomerId', 'Surname'], inplace=True)\n",
    "\n",
    "# Encode categorical variables\n",
    "df['Gender'] = LabelEncoder().fit_transform(df['Gender'])  \n",
    "df = pd.get_dummies(df, columns=['Geography'], drop_first=True)\n",
    "# Split data\n",
    "X = df.drop(columns=['Exited'])\n",
    "y = df['Exited']\n",
    "X_train, X_test, y_train, y_test = train_test_split(X, y, test_size=0.2, random_state=42, stratify=y)\n",
    "scaler = StandardScaler()\n",
    "X_train = scaler.fit_transform(X_train)\n",
    "X_test = scaler.transform(X_test)\n"
   ]
  },
  {
   "cell_type": "code",
   "execution_count": 16,
   "id": "1e6b107c",
   "metadata": {},
   "outputs": [
    {
     "data": {
      "text/plain": [
       "MLPClassifier(max_iter=10000)"
      ]
     },
     "execution_count": 16,
     "metadata": {},
     "output_type": "execute_result"
    }
   ],
   "source": [
    "# Decision Tree\n",
    "dtree = DecisionTreeClassifier()\n",
    "dtree.fit(X_train, y_train)\n",
    "\n",
    "# ANN\n",
    "ann = MLPClassifier(hidden_layer_sizes=(100,), max_iter=10000, learning_rate_init=0.001)\n",
    "ann.fit(X_train, y_train)"
   ]
  },
  {
   "cell_type": "code",
   "execution_count": 17,
   "id": "b3965329",
   "metadata": {},
   "outputs": [
    {
     "name": "stdout",
     "output_type": "stream",
     "text": [
      "Decision Tree Metrics:\n",
      "Confusion Matrix:\n",
      " [[1356  237]\n",
      " [ 203  204]]\n",
      "Accuracy: 0.78\n",
      "Precision: 0.6661866799317546\n",
      "Recall: 0.6762263033449474\n",
      "F1 Score: 0.6707690834211283\n",
      "MSE: 0.22\n",
      "RMSE: 0.469041575982343\n",
      "MAE: 0.22\n",
      "\n",
      "ANN Metrics:\n",
      "Confusion Matrix:\n",
      " [[1493  100]\n",
      " [ 193  214]]\n",
      "Accuracy: 0.8535\n",
      "Precision: 0.7835282695257308\n",
      "Recall: 0.7315119433763502\n",
      "F1 Score: 0.7521317305646533\n",
      "MSE: 0.1465\n",
      "RMSE: 0.38275318418009274\n",
      "MAE: 0.1465\n"
     ]
    }
   ],
   "source": [
    "# Predictions\n",
    "y_pred_tree = dtree.predict(X_test)\n",
    "y_pred_ann = ann.predict(X_test)\n",
    "\n",
    "# Evaluation Metrics\n",
    "# Confusion Matrix, Accuracy, Precision, Recall, F1 Score\n",
    "cm_tree = confusion_matrix(y_test, y_pred_tree)\n",
    "accuracy_tree = accuracy_score(y_test, y_pred_tree)\n",
    "precision_tree = precision_score(y_test, y_pred_tree, average='macro')\n",
    "recall_tree = recall_score(y_test, y_pred_tree, average='macro')\n",
    "f1_tree = f1_score(y_test, y_pred_tree, average='macro')\n",
    "\n",
    "cm_ann = confusion_matrix(y_test, y_pred_ann)\n",
    "accuracy_ann = accuracy_score(y_test, y_pred_ann)\n",
    "precision_ann = precision_score(y_test, y_pred_ann, average='macro')\n",
    "recall_ann = recall_score(y_test, y_pred_ann, average='macro')\n",
    "f1_ann = f1_score(y_test, y_pred_ann, average='macro')\n",
    "\n",
    "# Error Metrics (for regression models; here for classification context, hence simulated as incorrect use)\n",
    "mse_tree = mean_squared_error(y_test, y_pred_tree)\n",
    "rmse_tree = sqrt(mse_tree)\n",
    "mae_tree = mean_absolute_error(y_test, y_pred_tree)\n",
    "\n",
    "mse_ann = mean_squared_error(y_test, y_pred_ann)\n",
    "rmse_ann = sqrt(mse_ann)\n",
    "mae_ann = mean_absolute_error(y_test, y_pred_ann)\n",
    "\n",
    "# Printing metrics\n",
    "print(\"Decision Tree Metrics:\")\n",
    "print(\"Confusion Matrix:\\n\", cm_tree)\n",
    "print(\"Accuracy:\", accuracy_tree)\n",
    "print(\"Precision:\", precision_tree)\n",
    "print(\"Recall:\", recall_tree)\n",
    "print(\"F1 Score:\", f1_tree)\n",
    "print(\"MSE:\", mse_tree)\n",
    "print(\"RMSE:\", rmse_tree)\n",
    "print(\"MAE:\", mae_tree)\n",
    "\n",
    "print(\"\\nANN Metrics:\")\n",
    "print(\"Confusion Matrix:\\n\", cm_ann)\n",
    "print(\"Accuracy:\", accuracy_ann)\n",
    "print(\"Precision:\", precision_ann)\n",
    "print(\"Recall:\", recall_ann)\n",
    "print(\"F1 Score:\", f1_ann)\n",
    "print(\"MSE:\", mse_ann)\n",
    "print(\"RMSE:\", rmse_ann)\n",
    "print(\"MAE:\", mae_ann)"
   ]
  },
  {
   "cell_type": "code",
   "execution_count": null,
   "id": "fe494c13",
   "metadata": {},
   "outputs": [],
   "source": []
  }
 ],
 "metadata": {
  "kernelspec": {
   "display_name": "Python 3 (ipykernel)",
   "language": "python",
   "name": "python3"
  },
  "language_info": {
   "codemirror_mode": {
    "name": "ipython",
    "version": 3
   },
   "file_extension": ".py",
   "mimetype": "text/x-python",
   "name": "python",
   "nbconvert_exporter": "python",
   "pygments_lexer": "ipython3",
   "version": "3.9.12"
  }
 },
 "nbformat": 4,
 "nbformat_minor": 5
}
